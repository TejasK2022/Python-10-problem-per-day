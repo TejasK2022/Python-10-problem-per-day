{
 "cells": [
  {
   "cell_type": "code",
   "execution_count": 1,
   "id": "6f803ebb",
   "metadata": {},
   "outputs": [
    {
     "name": "stdout",
     "output_type": "stream",
     "text": [
      "Hello, World!\n"
     ]
    }
   ],
   "source": [
    "# 1 Write a Python program that prints \"Hello, World!\".\n",
    "print('Hello, World!')"
   ]
  },
  {
   "cell_type": "code",
   "execution_count": 2,
   "id": "64ca17da",
   "metadata": {},
   "outputs": [
    {
     "name": "stdout",
     "output_type": "stream",
     "text": [
      "Enter first number:- 5\n",
      "Enter second number:- 8\n",
      "13\n"
     ]
    }
   ],
   "source": [
    "# 2 Write a Python program that takes two numbers as input from the user and prints their sum.\n",
    "a=int(input('Enter first number:- '))\n",
    "b=int(input('Enter second number:- '))\n",
    "print(a+b)"
   ]
  },
  {
   "cell_type": "code",
   "execution_count": 4,
   "id": "202ad424",
   "metadata": {},
   "outputs": [
    {
     "name": "stdout",
     "output_type": "stream",
     "text": [
      "Enter any number:- 5\n",
      "Number is Odd. \n"
     ]
    }
   ],
   "source": [
    "# 3 Write a Python program that takes a number as input and checks if it is odd or even.\n",
    "num=int(input('Enter any number:- '))\n",
    "if num%2==0:\n",
    "    print('Number is Even. ')\n",
    "else:\n",
    "    print('Number is Odd. ')"
   ]
  },
  {
   "cell_type": "code",
   "execution_count": 5,
   "id": "eb3c3a80",
   "metadata": {},
   "outputs": [
    {
     "name": "stdout",
     "output_type": "stream",
     "text": [
      "Enter the radius: 3\n",
      "Area of Circle=  28.26\n"
     ]
    }
   ],
   "source": [
    "# 4 Write a Python program that calculates the area of a circle given its radius (use π = 3.14).\n",
    "radius=float(input('Enter the radius: '))\n",
    "pi=3.14\n",
    "print('Area of Circle= ',pi*radius**2)"
   ]
  },
  {
   "cell_type": "code",
   "execution_count": 7,
   "id": "0157fea4",
   "metadata": {},
   "outputs": [
    {
     "name": "stdout",
     "output_type": "stream",
     "text": [
      "Enter the first number: 8\n",
      "Enter the second number: 90\n",
      "90 is greater than 8.\n"
     ]
    }
   ],
   "source": [
    "# 5 Write a Python program to find the maximum of two numbers.\n",
    "a=int(input('Enter the first number: '))\n",
    "b=int(input('Enter the second number: '))\n",
    "if a>b:\n",
    "    print(f'{a} is greater than {b}.')\n",
    "else:\n",
    "    print(f'{b} is greater than {a}.')"
   ]
  },
  {
   "cell_type": "code",
   "execution_count": 14,
   "id": "af3f19e9",
   "metadata": {},
   "outputs": [
    {
     "name": "stdout",
     "output_type": "stream",
     "text": [
      "Enter the number: 4\n",
      "Number is not prime. \n"
     ]
    }
   ],
   "source": [
    "# 6 Write a Python program to check if a number is prime.\n",
    "num=int(input('Enter the number: '))\n",
    "flag=False\n",
    "if num==1:\n",
    "    print('Number is not prime ')\n",
    "elif num>1:\n",
    "    for i in range(2,num):\n",
    "        if num%i==0:\n",
    "            flag=True\n",
    "            break\n",
    "    if flag:\n",
    "        print('Number is not prime. ')\n",
    "    else:\n",
    "        print('Number is prime. ')"
   ]
  },
  {
   "cell_type": "code",
   "execution_count": 18,
   "id": "f07c83fa",
   "metadata": {},
   "outputs": [
    {
     "name": "stdout",
     "output_type": "stream",
     "text": [
      "Enter any string: hello this is tejas\n",
      "sajet si siht olleh\n"
     ]
    }
   ],
   "source": [
    "# 7 Write a Python program to reverse a given string.\n",
    "s=input('Enter any string: ' )\n",
    "print(s[::-1])"
   ]
  },
  {
   "cell_type": "code",
   "execution_count": 23,
   "id": "6919a6a2",
   "metadata": {},
   "outputs": [
    {
     "name": "stdout",
     "output_type": "stream",
     "text": [
      "Enter the number: 8\n",
      "factorial of 8 is 40320.\n"
     ]
    }
   ],
   "source": [
    "# 8 Write a Python program to find the factorial of a given number.\n",
    "num=int(input('Enter the number: '))\n",
    "fact=1\n",
    "for i in range(1,num+1):\n",
    "    fact=fact*i\n",
    "print(f'factorial of {num} is {fact}.')"
   ]
  },
  {
   "cell_type": "code",
   "execution_count": 29,
   "id": "c20a8e28",
   "metadata": {},
   "outputs": [
    {
     "name": "stdout",
     "output_type": "stream",
     "text": [
      "Enter the string: delhi city\n",
      "3\n"
     ]
    }
   ],
   "source": [
    "# 9 Write a Python program to count the number of vowels in a given string.\n",
    "s=input('Enter the string: ')\n",
    "count=0\n",
    "for i in s:\n",
    "    if i  in ['a','e','i','o','u']:\n",
    "        count=count+1\n",
    "print(count)"
   ]
  },
  {
   "cell_type": "code",
   "execution_count": 31,
   "id": "72e4397b",
   "metadata": {},
   "outputs": [
    {
     "name": "stdout",
     "output_type": "stream",
     "text": [
      "Enter any number: 5\n",
      "15\n"
     ]
    }
   ],
   "source": [
    "# 10 Write a Python program to find the sum of all natural numbers up to a given number.\n",
    "num=int(input('Enter any number: '))\n",
    "sum=0\n",
    "for i in range(num+1):\n",
    "    sum=sum+i\n",
    "print(sum)"
   ]
  }
 ],
 "metadata": {
  "kernelspec": {
   "display_name": "Python 3 (ipykernel)",
   "language": "python",
   "name": "python3"
  },
  "language_info": {
   "codemirror_mode": {
    "name": "ipython",
    "version": 3
   },
   "file_extension": ".py",
   "mimetype": "text/x-python",
   "name": "python",
   "nbconvert_exporter": "python",
   "pygments_lexer": "ipython3",
   "version": "3.10.0"
  }
 },
 "nbformat": 4,
 "nbformat_minor": 5
}

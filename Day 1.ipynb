{
 "cells": [
  {
   "cell_type": "markdown",
   "id": "af3d5d1f",
   "metadata": {},
   "source": [
    "Program 1:- Write a program which will find all such numbers which are divisible by 7 but are not a multiple of 5,\n",
    "between 2000 and 3200 (both included). The numbers obtained should be printed in a comma-separated sequence \n",
    "on a single line."
   ]
  },
  {
   "cell_type": "code",
   "execution_count": 1,
   "id": "6779db52",
   "metadata": {},
   "outputs": [
    {
     "name": "stdout",
     "output_type": "stream",
     "text": [
      "2002,2009,2016,2023,2037,2044,2051,2058,2072,2079,2086,2093,2107,2114,2121,2128,2142,2149,2156,2163,2177,2184,2191,2198,2212,2219,2226,2233,2247,2254,2261,2268,2282,2289,2296,2303,2317,2324,2331,2338,2352,2359,2366,2373,2387,2394,2401,2408,2422,2429,2436,2443,2457,2464,2471,2478,2492,2499,2506,2513,2527,2534,2541,2548,2562,2569,2576,2583,2597,2604,2611,2618,2632,2639,2646,2653,2667,2674,2681,2688,2702,2709,2716,2723,2737,2744,2751,2758,2772,2779,2786,2793,2807,2814,2821,2828,2842,2849,2856,2863,2877,2884,2891,2898,2912,2919,2926,2933,2947,2954,2961,2968,2982,2989,2996,3003,3017,3024,3031,3038,3052,3059,3066,3073,3087,3094,3101,3108,3122,3129,3136,3143,3157,3164,3171,3178,3192,3199"
     ]
    }
   ],
   "source": [
    "first=True\n",
    "for i in range(2000,3201):\n",
    "    if i%7==0 and i%5!=0:\n",
    "        if not first:\n",
    "            print(',',end=\"\")\n",
    "        print(i,end=\"\")\n",
    "        first=False"
   ]
  },
  {
   "cell_type": "code",
   "execution_count": null,
   "id": "9aa79aa0",
   "metadata": {},
   "outputs": [],
   "source": []
  },
  {
   "cell_type": "markdown",
   "id": "928bf74a",
   "metadata": {},
   "source": [
    "Program 2 : Write a program which can compute the factorial of a given numbers.\n",
    "The results should be printed in a comma-separated sequence on a single line. \n",
    "Suppose the following input is supplied to the program: 8 Then, the output should be: 40320"
   ]
  },
  {
   "cell_type": "code",
   "execution_count": 2,
   "id": "977a1015",
   "metadata": {},
   "outputs": [
    {
     "name": "stdout",
     "output_type": "stream",
     "text": [
      "Enter any number to find out factorial : 6\n",
      "720\n"
     ]
    }
   ],
   "source": [
    "def fact(num):\n",
    "    if num==1:\n",
    "        return 1\n",
    "    else:\n",
    "        return num*fact(num-1)\n",
    "n=int(input('Enter any number to find out factorial : '))\n",
    "print(fact(n))"
   ]
  },
  {
   "cell_type": "code",
   "execution_count": null,
   "id": "e8207006",
   "metadata": {},
   "outputs": [],
   "source": []
  },
  {
   "cell_type": "markdown",
   "id": "d5b8d75a",
   "metadata": {},
   "source": [
    "Program 3: With a given integral number n, write a program to generate a dictionary that contains (i, i*i) such that is an integral number between 1 and n (both included). and then the program should print the dictionary. Suppose the following input is supplied to the program: 8 Then, the output should be: {1: 1, 2: 4, 3: 9, 4: 16, 5: 25, 6: 36, 7: 49, 8: 64}"
   ]
  },
  {
   "cell_type": "code",
   "execution_count": 3,
   "id": "e1258a95",
   "metadata": {},
   "outputs": [
    {
     "name": "stdout",
     "output_type": "stream",
     "text": [
      "Enter the number : 5\n"
     ]
    },
    {
     "data": {
      "text/plain": [
       "{1: 1, 2: 4, 3: 9, 4: 16, 5: 25}"
      ]
     },
     "execution_count": 3,
     "metadata": {},
     "output_type": "execute_result"
    }
   ],
   "source": [
    "d={}\n",
    "num=int(input('Enter the number : '))\n",
    "for i in range(1,num+1):\n",
    "    d[i]=i*i\n",
    "d"
   ]
  },
  {
   "cell_type": "code",
   "execution_count": null,
   "id": "3333d806",
   "metadata": {},
   "outputs": [],
   "source": []
  },
  {
   "cell_type": "markdown",
   "id": "23e37b44",
   "metadata": {},
   "source": [
    "Program 4: Write a program which accepts a sequence of comma-separated numbers from console and generate a list and a tuple which contains every number. Suppose the following input is supplied to the program: 34,67,55,33,12,98 Then, the output should be: ['34', '67', '55', '33', '12', '98'] ('34', '67', '55', '33', '12', '98')"
   ]
  },
  {
   "cell_type": "code",
   "execution_count": 4,
   "id": "640305ed",
   "metadata": {},
   "outputs": [
    {
     "name": "stdout",
     "output_type": "stream",
     "text": [
      "Enter the values6,7,8,2,3\n",
      "['6', '7', '8', '2', '3']\n",
      "('6', '7', '8', '2', '3')\n"
     ]
    }
   ],
   "source": [
    "values=input('Enter the values')\n",
    "list1=values.split(\",\")\n",
    "tuple1=tuple(list1)\n",
    "print(list1)\n",
    "print(tuple1)"
   ]
  },
  {
   "cell_type": "code",
   "execution_count": null,
   "id": "b9bcdef6",
   "metadata": {},
   "outputs": [],
   "source": []
  },
  {
   "cell_type": "markdown",
   "id": "26a4fe18",
   "metadata": {},
   "source": [
    "Program 5: Define a class which has at least two methods: getString: to get a string from console input printString: to print the string in upper case. Also please include simple test function to test the class methods."
   ]
  },
  {
   "cell_type": "code",
   "execution_count": 5,
   "id": "d781dcf7",
   "metadata": {},
   "outputs": [
    {
     "name": "stdout",
     "output_type": "stream",
     "text": [
      "Enter any string: hi this is tejas\n",
      "HI THIS IS TEJAS\n"
     ]
    }
   ],
   "source": [
    "class StringFunctions:\n",
    "    def getString(self):\n",
    "        self.s1=input('Enter any string: ')\n",
    "    def printString(self):\n",
    "        print(self.s1.upper())\n",
    "    def Test(self):\n",
    "        self.getString()\n",
    "        self.printString()\n",
    "s=StringFunctions()\n",
    "s.Test()"
   ]
  },
  {
   "cell_type": "code",
   "execution_count": null,
   "id": "4776f2a9",
   "metadata": {},
   "outputs": [],
   "source": []
  },
  {
   "cell_type": "markdown",
   "id": "9b265d96",
   "metadata": {},
   "source": [
    "Program 6: Write a program that calculates and prints the value according to the given formula: Q = Square root of [(2 * C * D)/H] Following are the fixed values of C and H: C is 50. H is 30. D is the variable whose values should be input to your program in a comma-separated sequence. Example Let us assume the following comma separated input sequence is given to the program: 100,150,180 The output of the program should be: 18,22,24"
   ]
  },
  {
   "cell_type": "code",
   "execution_count": 6,
   "id": "3599a891",
   "metadata": {},
   "outputs": [
    {
     "name": "stdout",
     "output_type": "stream",
     "text": [
      "4,6,7,8\n",
      "4,4,5,5\n"
     ]
    }
   ],
   "source": [
    "import math\n",
    "c=50\n",
    "h=30\n",
    "value = []\n",
    "items=[i for i in input().split(',')]\n",
    "for d in items:\n",
    "    value.append(str(int(round(math.sqrt(2*c*float(d)/h)))))\n",
    "\n",
    "print(','.join(value))"
   ]
  },
  {
   "cell_type": "markdown",
   "id": "1b0efad4",
   "metadata": {},
   "source": [
    "Program 7:- Find same elements in two lists."
   ]
  },
  {
   "cell_type": "code",
   "execution_count": 7,
   "id": "93ed7451",
   "metadata": {},
   "outputs": [
    {
     "name": "stdout",
     "output_type": "stream",
     "text": [
      "[6, 7]\n"
     ]
    },
    {
     "data": {
      "text/plain": [
       "[1, 5]"
      ]
     },
     "execution_count": 7,
     "metadata": {},
     "output_type": "execute_result"
    }
   ],
   "source": [
    "a=[2,5,6,7,8]\n",
    "b=[6,7,9,0,1]\n",
    "r=[]\n",
    "for i in a:\n",
    "    for j in b:\n",
    "        if i==j:\n",
    "            r.append(i)\n",
    "print(r)\n",
    "\n",
    "# Or there is another way which has less time complexity\n",
    "def common_ele(list1,list2):\n",
    "    return list(set(list1)&set(list2))\n",
    "common_ele([1,2,3,4,5],[5,6,7,8,1])"
   ]
  },
  {
   "cell_type": "code",
   "execution_count": null,
   "id": "d51d7857",
   "metadata": {},
   "outputs": [],
   "source": []
  },
  {
   "cell_type": "markdown",
   "id": "0b18939d",
   "metadata": {},
   "source": [
    "Program 8:- Count the frequency of the element in list"
   ]
  },
  {
   "cell_type": "code",
   "execution_count": 8,
   "id": "3527e391",
   "metadata": {},
   "outputs": [
    {
     "data": {
      "text/plain": [
       "{1: 1, 2: 1, 3: 2, 4: 4, 5: 3, 6: 2}"
      ]
     },
     "execution_count": 8,
     "metadata": {},
     "output_type": "execute_result"
    }
   ],
   "source": [
    "a=[1,2,3,3,4,4,4,4,5,5,5,6,6]\n",
    "b={}\n",
    "for i in a:\n",
    "    if i in b:\n",
    "        b[i]=b[i]+1\n",
    "    else:\n",
    "        b[i]=1\n",
    "b\n",
    "\n",
    "    "
   ]
  },
  {
   "cell_type": "code",
   "execution_count": null,
   "id": "4abbb821",
   "metadata": {},
   "outputs": [],
   "source": []
  },
  {
   "cell_type": "code",
   "execution_count": null,
   "id": "3a4db086",
   "metadata": {},
   "outputs": [],
   "source": []
  },
  {
   "cell_type": "code",
   "execution_count": null,
   "id": "b4dbfb21",
   "metadata": {},
   "outputs": [],
   "source": []
  },
  {
   "cell_type": "code",
   "execution_count": null,
   "id": "95152c11",
   "metadata": {},
   "outputs": [],
   "source": []
  },
  {
   "cell_type": "code",
   "execution_count": null,
   "id": "86f83499",
   "metadata": {},
   "outputs": [],
   "source": []
  }
 ],
 "metadata": {
  "kernelspec": {
   "display_name": "Python 3 (ipykernel)",
   "language": "python",
   "name": "python3"
  },
  "language_info": {
   "codemirror_mode": {
    "name": "ipython",
    "version": 3
   },
   "file_extension": ".py",
   "mimetype": "text/x-python",
   "name": "python",
   "nbconvert_exporter": "python",
   "pygments_lexer": "ipython3",
   "version": "3.10.0"
  }
 },
 "nbformat": 4,
 "nbformat_minor": 5
}
